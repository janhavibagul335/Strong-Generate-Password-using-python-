{
 "cells": [
  {
   "cell_type": "code",
   "execution_count": 2,
   "id": "a7a54f1d",
   "metadata": {},
   "outputs": [
    {
     "name": "stdout",
     "output_type": "stream",
     "text": [
      "Enter the length of the password: 13\n",
      "A randomly selected password is:  B$dVmCiShX$KD\n"
     ]
    }
   ],
   "source": [
    "import random\n",
    "\n",
    "#a function that will generate a password in length (n) and return it \n",
    "def generatepassword(n):\n",
    "    \n",
    "    max_length=15\n",
    "    min_length=8\n",
    "    \n",
    "    #defining the list of characters that will be used to generate the password  \n",
    "    characters=\"abcdefghijklmnopqrstuvwxyzABCDEFGHIJKLMNOPQRSTUVWXYZ123456789!@#$%^&*.;()\"\n",
    "    \n",
    "    #initializing an empty string to store the pasword\n",
    "    password=\"\"\n",
    "    \n",
    "    # creating a loop to randomly select the character from the list and insert it in the password string upto the given length  \n",
    "    for i in range(n):\n",
    "          # using the random.choice() method to select a random character from the list and inserting it in the password string  \n",
    "        password+=random.choice(characters)\n",
    "        \n",
    "     \n",
    "    #finally returning the randomly generated password.\n",
    "    return password\n",
    "\n",
    "\n",
    "# main function  \n",
    "if __name__==\"__main__\":\n",
    "    n=int(input(\"Enter the length of the password: \"))\n",
    "if (n<=15) and (n>=8):\n",
    "    password=generatepassword(n)\n",
    "    print(\"A randomly selected password is: \",password)\n",
    "else:\n",
    "    print(\"error\")\n",
    "\n",
    "    "
   ]
  },
  {
   "cell_type": "code",
   "execution_count": null,
   "id": "3acf931d",
   "metadata": {},
   "outputs": [],
   "source": []
  },
  {
   "cell_type": "code",
   "execution_count": null,
   "id": "719fc34f",
   "metadata": {},
   "outputs": [],
   "source": []
  }
 ],
 "metadata": {
  "kernelspec": {
   "display_name": "Python 3 (ipykernel)",
   "language": "python",
   "name": "python3"
  },
  "language_info": {
   "codemirror_mode": {
    "name": "ipython",
    "version": 3
   },
   "file_extension": ".py",
   "mimetype": "text/x-python",
   "name": "python",
   "nbconvert_exporter": "python",
   "pygments_lexer": "ipython3",
   "version": "3.9.13"
  }
 },
 "nbformat": 4,
 "nbformat_minor": 5
}
